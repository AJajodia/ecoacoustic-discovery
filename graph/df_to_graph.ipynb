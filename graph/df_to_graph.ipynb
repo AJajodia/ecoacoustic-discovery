{
 "cells": [
  {
   "cell_type": "code",
   "execution_count": 13,
   "id": "69aee84e",
   "metadata": {},
   "outputs": [],
   "source": [
    "# imports\n",
    "import pandas as pd\n",
    "import json\n",
    "from itertools import product"
   ]
  },
  {
   "cell_type": "code",
   "execution_count": 94,
   "id": "1866fa69",
   "metadata": {},
   "outputs": [],
   "source": [
    "data = pd.read_csv('liked-sounds-clean.csv')[['FileName','Scene', 'Category', 'Month', 'Season', 'Time']]\n",
    "\n",
    "data['Category'] = data['Category'].str.split('/')\n",
    "data = data.explode('Category')\n",
    "\n",
    "data = data.map(lambda x: x.strip() if isinstance(x, str) else x)\n",
    "\n",
    "data = data.melt(\n",
    "    id_vars='FileName',\n",
    "    value_vars=['Scene', 'Category', 'Month', 'Season', 'Time']\n",
    ")\n",
    "\n",
    "\n",
    "columns = ['Scene', 'Category', 'Month', 'Season', 'Time']"
   ]
  },
  {
   "cell_type": "code",
   "execution_count": 99,
   "id": "edd5aba7",
   "metadata": {},
   "outputs": [
    {
     "data": {
      "application/vnd.microsoft.datawrangler.viewer.v0+json": {
       "columns": [
        {
         "name": "index",
         "rawType": "int64",
         "type": "integer"
        },
        {
         "name": "FileName",
         "rawType": "object",
         "type": "string"
        },
        {
         "name": "variable",
         "rawType": "object",
         "type": "string"
        },
        {
         "name": "value",
         "rawType": "object",
         "type": "unknown"
        }
       ],
       "ref": "4f598503-4f5f-447d-afe0-f4eb3f5c2ed5",
       "rows": [
        [
         "0",
         "SERRA_20250503_153307.wav",
         "Scene",
         "Sand Forrest (Location A)"
        ],
        [
         "1",
         "SERRA_20250503_153307.wav",
         "Scene",
         "Sand Forrest (Location A)"
        ],
        [
         "2",
         "SERRA_20250503_153021.wav",
         "Scene",
         "Sand Forrest (Location A)"
        ],
        [
         "3",
         "SERRA_20250503_153021.wav",
         "Scene",
         "Sand Forrest (Location A)"
        ],
        [
         "4",
         "SERRA_20250503_153031.wav",
         "Scene",
         "Sand Forrest (Location A)"
        ],
        [
         "5",
         "SERRA_20250503_153031.wav",
         "Scene",
         "Sand Forrest (Location A)"
        ],
        [
         "6",
         "SERRA_20250503_154212.wav",
         "Scene",
         "Sand Forrest (Location A)"
        ],
        [
         "7",
         "SERRA_20250503_162545.wav",
         "Scene",
         "Sand Forrest (Location A)"
        ],
        [
         "8",
         "SERRA_20250503_170259.wav",
         "Scene",
         "Sand Forrest (Location A)"
        ],
        [
         "9",
         "SERRA_20250503_171323.wav",
         "Scene",
         "Sand Forrest (Location A)"
        ],
        [
         "10",
         "SERRA_20250503_171323.wav",
         "Scene",
         "Sand Forrest (Location A)"
        ],
        [
         "11",
         "SERRA_20250503_171323.wav",
         "Scene",
         "Sand Forrest (Location A)"
        ],
        [
         "12",
         "SERRA_20250503_171548.wav",
         "Scene",
         "Sand Forrest (Location A)"
        ],
        [
         "13",
         "SERRA_20250503_174208.wav",
         "Scene",
         "Sand Forrest (Location A)"
        ],
        [
         "14",
         "SERRA_20250503_174216.wav",
         "Scene",
         "Sand Forrest (Location A)"
        ],
        [
         "15",
         "SERRA_20250503_174350.wav",
         "Scene",
         "Sand Forrest (Location A)"
        ],
        [
         "16",
         "SERRA_20250503_174415.wav",
         "Scene",
         "Sand Forrest (Location A)"
        ],
        [
         "17",
         "SERRA_20250503_174540.wav",
         "Scene",
         "Sand Forrest (Location A)"
        ],
        [
         "18",
         "SERRA_20250503_174712.wav",
         "Scene",
         "Sand Forrest (Location A)"
        ],
        [
         "19",
         "SERRA_20250503_174751.wav",
         "Scene",
         "Sand Forrest (Location A)"
        ],
        [
         "20",
         "SERRA_20250503_174806.wav",
         "Scene",
         "Sand Forrest (Location A)"
        ],
        [
         "21",
         "SERRA_20250503_175042.wav",
         "Scene",
         "Sand Forrest (Location A)"
        ],
        [
         "22",
         "SERRA_20250503_175113.wav",
         "Scene",
         "Sand Forrest (Location A)"
        ],
        [
         "23",
         "SERRA_20250503_175414.wav",
         "Scene",
         "Sand Forrest (Location A)"
        ],
        [
         "24",
         "SERRA_20250503_175508.wav",
         "Scene",
         "Sand Forrest (Location A)"
        ],
        [
         "25",
         "SERRA_20250503_180437.wav",
         "Scene",
         "Sand Forrest (Location A)"
        ],
        [
         "26",
         "SERRA_20250503_180832.wav",
         "Scene",
         "Sand Forrest (Location A)"
        ],
        [
         "27",
         "SERRA_20250503_181113.wav",
         "Scene",
         "Sand Forrest (Location A)"
        ],
        [
         "28",
         "SERRA_20250503_195055.wav",
         "Scene",
         "Sand Forrest (Location A)"
        ],
        [
         "29",
         "SERRA_20250503_195436.wav",
         "Scene",
         "Sand Forrest (Location A)"
        ],
        [
         "30",
         "SERRA_20250503_195613.wav",
         "Scene",
         "Sand Forrest (Location A)"
        ],
        [
         "31",
         "SERRA_20250503_200235.wav",
         "Scene",
         "Sand Forrest (Location A)"
        ],
        [
         "32",
         "SERRA_20250503_200247a.wav",
         "Scene",
         "Sand Forrest (Location A)"
        ],
        [
         "33",
         "SERRA_20250503_200549.wav",
         "Scene",
         "Sand Forrest (Location A)"
        ],
        [
         "34",
         "SERRA_20250503_202003.wav",
         "Scene",
         "Sand Forrest (Location A)"
        ],
        [
         "35",
         "SERRA_20250503_203716.wav",
         "Scene",
         "Sand Forrest (Location A)"
        ],
        [
         "36",
         "SERRA_20250503_210656.wav",
         "Scene",
         "Sand Forrest (Location A)"
        ],
        [
         "37",
         "SERRA_20250503_211451.wav",
         "Scene",
         "Sand Forrest (Location A)"
        ],
        [
         "38",
         "SERRA_20250503_221611.wav",
         "Scene",
         "Sand Forrest (Location A)"
        ],
        [
         "39",
         "SERRA_20250503_221730.wav",
         "Scene",
         null
        ],
        [
         "40",
         "030525_001_20250503_163053.wav",
         "Scene",
         null
        ],
        [
         "41",
         "030525_003_20250503_174500.wav",
         "Scene",
         null
        ],
        [
         "42",
         "030525_003_20250503_180900.wav",
         "Scene",
         null
        ],
        [
         "43",
         "030525_004_20250503_183415.wav",
         "Scene",
         null
        ],
        [
         "44",
         "030525_005_20250503_190900.wav",
         "Scene",
         null
        ],
        [
         "45",
         "030525_005_20250503_192700.wav",
         "Scene",
         null
        ],
        [
         "46",
         "SERRA_20250503_153307.wav",
         "Category",
         "Bat"
        ],
        [
         "47",
         "SERRA_20250503_153307.wav",
         "Category",
         "Cicada"
        ],
        [
         "48",
         "SERRA_20250503_153021.wav",
         "Category",
         "Bat"
        ],
        [
         "49",
         "SERRA_20250503_153021.wav",
         "Category",
         "Cicada"
        ]
       ],
       "shape": {
        "columns": 3,
        "rows": 230
       }
      },
      "text/html": [
       "<div>\n",
       "<style scoped>\n",
       "    .dataframe tbody tr th:only-of-type {\n",
       "        vertical-align: middle;\n",
       "    }\n",
       "\n",
       "    .dataframe tbody tr th {\n",
       "        vertical-align: top;\n",
       "    }\n",
       "\n",
       "    .dataframe thead th {\n",
       "        text-align: right;\n",
       "    }\n",
       "</style>\n",
       "<table border=\"1\" class=\"dataframe\">\n",
       "  <thead>\n",
       "    <tr style=\"text-align: right;\">\n",
       "      <th></th>\n",
       "      <th>FileName</th>\n",
       "      <th>variable</th>\n",
       "      <th>value</th>\n",
       "    </tr>\n",
       "  </thead>\n",
       "  <tbody>\n",
       "    <tr>\n",
       "      <th>0</th>\n",
       "      <td>SERRA_20250503_153307.wav</td>\n",
       "      <td>Scene</td>\n",
       "      <td>Sand Forrest (Location A)</td>\n",
       "    </tr>\n",
       "    <tr>\n",
       "      <th>1</th>\n",
       "      <td>SERRA_20250503_153307.wav</td>\n",
       "      <td>Scene</td>\n",
       "      <td>Sand Forrest (Location A)</td>\n",
       "    </tr>\n",
       "    <tr>\n",
       "      <th>2</th>\n",
       "      <td>SERRA_20250503_153021.wav</td>\n",
       "      <td>Scene</td>\n",
       "      <td>Sand Forrest (Location A)</td>\n",
       "    </tr>\n",
       "    <tr>\n",
       "      <th>3</th>\n",
       "      <td>SERRA_20250503_153021.wav</td>\n",
       "      <td>Scene</td>\n",
       "      <td>Sand Forrest (Location A)</td>\n",
       "    </tr>\n",
       "    <tr>\n",
       "      <th>4</th>\n",
       "      <td>SERRA_20250503_153031.wav</td>\n",
       "      <td>Scene</td>\n",
       "      <td>Sand Forrest (Location A)</td>\n",
       "    </tr>\n",
       "    <tr>\n",
       "      <th>...</th>\n",
       "      <td>...</td>\n",
       "      <td>...</td>\n",
       "      <td>...</td>\n",
       "    </tr>\n",
       "    <tr>\n",
       "      <th>225</th>\n",
       "      <td>030525_003_20250503_174500.wav</td>\n",
       "      <td>Time</td>\n",
       "      <td>NaN</td>\n",
       "    </tr>\n",
       "    <tr>\n",
       "      <th>226</th>\n",
       "      <td>030525_003_20250503_180900.wav</td>\n",
       "      <td>Time</td>\n",
       "      <td>NaN</td>\n",
       "    </tr>\n",
       "    <tr>\n",
       "      <th>227</th>\n",
       "      <td>030525_004_20250503_183415.wav</td>\n",
       "      <td>Time</td>\n",
       "      <td>NaN</td>\n",
       "    </tr>\n",
       "    <tr>\n",
       "      <th>228</th>\n",
       "      <td>030525_005_20250503_190900.wav</td>\n",
       "      <td>Time</td>\n",
       "      <td>NaN</td>\n",
       "    </tr>\n",
       "    <tr>\n",
       "      <th>229</th>\n",
       "      <td>030525_005_20250503_192700.wav</td>\n",
       "      <td>Time</td>\n",
       "      <td>NaN</td>\n",
       "    </tr>\n",
       "  </tbody>\n",
       "</table>\n",
       "<p>230 rows × 3 columns</p>\n",
       "</div>"
      ],
      "text/plain": [
       "                           FileName variable                      value\n",
       "0         SERRA_20250503_153307.wav    Scene  Sand Forrest (Location A)\n",
       "1         SERRA_20250503_153307.wav    Scene  Sand Forrest (Location A)\n",
       "2         SERRA_20250503_153021.wav    Scene  Sand Forrest (Location A)\n",
       "3         SERRA_20250503_153021.wav    Scene  Sand Forrest (Location A)\n",
       "4         SERRA_20250503_153031.wav    Scene  Sand Forrest (Location A)\n",
       "..                              ...      ...                        ...\n",
       "225  030525_003_20250503_174500.wav     Time                        NaN\n",
       "226  030525_003_20250503_180900.wav     Time                        NaN\n",
       "227  030525_004_20250503_183415.wav     Time                        NaN\n",
       "228  030525_005_20250503_190900.wav     Time                        NaN\n",
       "229  030525_005_20250503_192700.wav     Time                        NaN\n",
       "\n",
       "[230 rows x 3 columns]"
      ]
     },
     "execution_count": 99,
     "metadata": {},
     "output_type": "execute_result"
    }
   ],
   "source": [
    "data"
   ]
  },
  {
   "cell_type": "code",
   "execution_count": null,
   "id": "69c3a869",
   "metadata": {},
   "outputs": [],
   "source": [
    "file_nodes = [{\"id\": i, \"group\": 1} for i in set(data['FileName'])]\n",
    "\n",
    "var_nodes = []\n",
    "\n",
    "for index, row in data[['variable', 'value']].iterrows():\n",
    "    group = columns.index(row['variable']) +1 \n",
    "    value = row['value']\n",
    "    \n",
    "    entry ={\n",
    "        \"id\": value, \"group\": group\n",
    "    }\n",
    "    \n",
    "    if entry not in var_nodes and str(value) != 'nan':\n",
    "        var_nodes.append(entry)\n"
   ]
  },
  {
   "cell_type": "code",
   "execution_count": 111,
   "id": "b57edc6e",
   "metadata": {},
   "outputs": [],
   "source": [
    "edgelist = [{\"source\": row[\"FileName\"], \"target\": row[\"value\"], \"value\": 1} for i, row in data.iterrows() if str(row[\"value\"]) != \"nan\"]\n",
    "nodelist = file_nodes + var_nodes\n",
    "\n",
    "output = {\n",
    "    \"nodes\": nodelist,\n",
    "    \"links\": edgelist\n",
    "}"
   ]
  },
  {
   "cell_type": "code",
   "execution_count": 114,
   "id": "865273bf",
   "metadata": {},
   "outputs": [],
   "source": [
    "with open(\"output.json\", 'w') as f:\n",
    "    json.dump(output, f, indent=4)"
   ]
  },
  {
   "cell_type": "code",
   "execution_count": null,
   "id": "c813ceaa",
   "metadata": {},
   "outputs": [],
   "source": [
    "# columns = ['Scene', 'Category', 'Month', 'Season', 'Time']\n",
    "\n",
    "# edgelist = {}\n",
    "# nodelist = []\n",
    "\n",
    "# for index, row in data[columns].iterrows():\n",
    "#     for i, var1 in enumerate(columns):\n",
    "#         node = {\n",
    "#             \"id\": str(row[var1]),\n",
    "#             \"group\": i\n",
    "#         }\n",
    "#         if node not in nodelist:\n",
    "#             nodelist.append(node)\n",
    "  \n",
    "#         for var2 in columns:\n",
    "#             if var1 == var2:\n",
    "#                 continue\n",
    "            \n",
    "#             val1, val2 = str(row[var1]), str(row[var2])\n",
    "#             key = (i for i in sorted([val1, val2]))\n",
    "            \n",
    "#             key = tuple(key)\n",
    "#             if key in edgelist:\n",
    "#                 edgelist[key] += 1\n",
    "#             else:\n",
    "#                 edgelist[key] = 1"
   ]
  },
  {
   "cell_type": "code",
   "execution_count": null,
   "id": "3ecc55eb",
   "metadata": {},
   "outputs": [
    {
     "data": {
      "text/plain": [
       "[{'id': 'Sand Forrest (Location A)', 'group': 0},\n",
       " {'id': 'Bat ', 'group': 1},\n",
       " {'id': 'May', 'group': 2},\n",
       " {'id': 'Wet To Dry', 'group': 3},\n",
       " {'id': '08 AM - 4PM', 'group': 4},\n",
       " {'id': ' Cicada', 'group': 1},\n",
       " {'id': 'May ', 'group': 2},\n",
       " {'id': 'Bat', 'group': 1},\n",
       " {'id': '4PM - 11:59PM', 'group': 4},\n",
       " {'id': 'Blip ', 'group': 1},\n",
       " {'id': ' Bat ', 'group': 1},\n",
       " {'id': 'Blip', 'group': 1},\n",
       " {'id': 'Cricket', 'group': 1},\n",
       " {'id': 'nan', 'group': 0},\n",
       " {'id': 'nan', 'group': 1},\n",
       " {'id': 'nan', 'group': 2},\n",
       " {'id': 'nan', 'group': 3},\n",
       " {'id': 'nan', 'group': 4}]"
      ]
     },
     "execution_count": 70,
     "metadata": {},
     "output_type": "execute_result"
    }
   ],
   "source": [
    "nodelist = "
   ]
  }
 ],
 "metadata": {
  "kernelspec": {
   "display_name": "ecoacoustic-discovery (3.13.5)",
   "language": "python",
   "name": "python3"
  },
  "language_info": {
   "codemirror_mode": {
    "name": "ipython",
    "version": 3
   },
   "file_extension": ".py",
   "mimetype": "text/x-python",
   "name": "python",
   "nbconvert_exporter": "python",
   "pygments_lexer": "ipython3",
   "version": "3.11.6"
  }
 },
 "nbformat": 4,
 "nbformat_minor": 5
}
